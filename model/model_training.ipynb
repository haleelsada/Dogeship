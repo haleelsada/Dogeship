{
  "cells": [
    {
      "cell_type": "markdown",
      "metadata": {
        "id": "VtwFZrNOequD"
      },
      "source": [
        "##Machine learning model to predict the future price of doge coin based on past data"
      ]
    },
    {
      "cell_type": "code",
      "execution_count": 3,
      "metadata": {
        "colab": {
          "base_uri": "https://localhost:8080/"
        },
        "id": "exXr2s--NP47",
        "outputId": "1bb1f129-8a7b-4d3a-ff0c-665c547952dc"
      },
      "outputs": [
        {
          "output_type": "stream",
          "name": "stdout",
          "text": [
            "         Date      Open      High       Low     Close  Adj Close     Volume\n",
            "0  2014-09-17  0.000293  0.000299  0.000260  0.000268   0.000268  1463600.0\n",
            "1  2014-09-18  0.000268  0.000325  0.000267  0.000298   0.000298  2215910.0\n",
            "2  2014-09-19  0.000298  0.000307  0.000275  0.000277   0.000277   883563.0\n",
            "3  2014-09-20  0.000276  0.000310  0.000267  0.000292   0.000292   993004.0\n",
            "4  2014-09-21  0.000293  0.000299  0.000284  0.000288   0.000288   539140.0\n",
            "\n",
            "shape of data is  (2639, 7)\n"
          ]
        }
      ],
      "source": [
        "#import needed modules\n",
        "import pandas as pd\n",
        "import sklearn\n",
        "import matplotlib.pyplot as plt\n",
        "import numpy as np\n",
        "\n",
        "data=pd.read_csv('/content/DOGE-USD.csv')\n",
        "print(data.head())\n",
        "print('\\nshape of data is ',data.shape)"
      ]
    },
    {
      "cell_type": "code",
      "execution_count": 5,
      "metadata": {
        "id": "zpn14jJO3Zx8",
        "colab": {
          "base_uri": "https://localhost:8080/"
        },
        "outputId": "85c64e03-c258-4ed2-ebd2-6d8bf42b4393"
      },
      "outputs": [
        {
          "output_type": "stream",
          "name": "stdout",
          "text": [
            "         Date      Open      High       Low     Close     Volume  Target Close\n",
            "0  2014-09-17  0.000293  0.000299  0.000260  0.000268  1463600.0      0.000298\n",
            "1  2014-09-18  0.000268  0.000325  0.000267  0.000298  2215910.0      0.000277\n",
            "2  2014-09-19  0.000298  0.000307  0.000275  0.000277   883563.0      0.000292\n",
            "3  2014-09-20  0.000276  0.000310  0.000267  0.000292   993004.0      0.000288\n",
            "4  2014-09-21  0.000293  0.000299  0.000284  0.000288   539140.0      0.000298\n",
            "[0.000298, 0.000277, 0.000292, 0.000288, 0.000298, 0.000313, 0.000348, 0.000375, 0.000451, 0.000375, 0.000392, 0.000396]\n",
            "2639 2639\n"
          ]
        }
      ],
      "source": [
        "\n",
        "data3=data.copy()\n",
        "data3.head()\n",
        "\n",
        "# add target variable as one day more to future\n",
        "\n",
        "label=[]\n",
        "for i in range(len(data3)):\n",
        "  label.append(data3.iloc[i]['Close'])\n",
        "\n",
        "label=label[1:len(label)]+[data3.iloc[i]['Close']]\n",
        "data3['Target Close']=label\n",
        "data3=data3.drop(['Adj Close'],axis=1)\n",
        "print(data3.head())\n",
        "print(label[:12])\n",
        "print(len(data3),len(label))\n"
      ]
    },
    {
      "cell_type": "code",
      "source": [
        "#method to find the open,high,low,close of last n days of data\n",
        "\n",
        "def finddata(data,n):\n",
        "  open,high,low,close=[],[],[],[]\n",
        "\n",
        "  for i in range(len(data)):\n",
        "    if i <n-1:\n",
        "      open.append(sum(data.iloc[:n]['Open'])/n)\n",
        "      close.append(sum(data.iloc[:n]['Close'])/n)\n",
        "      high.append(max(data.iloc[:n]['High']))\n",
        "      low.append(min(data.iloc[:n]['Low']))\n",
        "\n",
        "    else:\n",
        "      open.append(data.iloc[i-n+1]['Open'])\n",
        "      close.append(data.iloc[i]['Close'])\n",
        "      high.append(max(data.iloc[i-n+1:i+1]['High']))\n",
        "      low.append(min(data.iloc[i-n+1:i+1]['Low']))\n",
        "\n",
        "\n",
        "  open=open[:len(data)]\n",
        "  close=close[:len(data)]\n",
        "  high=high[:len(data)]\n",
        "  low=low[:len(data)]\n",
        "\n",
        "  return open,close,high,low\n",
        "\n"
      ],
      "metadata": {
        "id": "35Xo6OREOu_z"
      },
      "execution_count": 6,
      "outputs": []
    },
    {
      "cell_type": "code",
      "source": [
        "#adding new columns of 7 days and 40 days data\n",
        "\n",
        "newvals=finddata(data3,7)\n",
        "newvals2=finddata(data3,40)\n",
        "data3['7day_open']=newvals[0]\n",
        "data3['7day_close']=newvals[1]\n",
        "data3['7day_high']=newvals[2]\n",
        "data3['7day_low']=newvals[3]\n",
        "\n",
        "data3['40day_open']=newvals2[0]\n",
        "data3['40day_close']=newvals2[1]\n",
        "data3['40day_high']=newvals2[2]\n",
        "data3['40day_low']=newvals2[3]\n",
        "\n",
        "data3.head()"
      ],
      "metadata": {
        "colab": {
          "base_uri": "https://localhost:8080/",
          "height": 349
        },
        "id": "1VEuvAz6UGb1",
        "outputId": "98df64ea-23ca-4c91-fabc-0565e917fcf7"
      },
      "execution_count": 7,
      "outputs": [
        {
          "output_type": "execute_result",
          "data": {
            "text/html": [
              "\n",
              "  <div id=\"df-1b2e2ce1-429d-45da-b65b-7ef5beb48dbc\">\n",
              "    <div class=\"colab-df-container\">\n",
              "      <div>\n",
              "<style scoped>\n",
              "    .dataframe tbody tr th:only-of-type {\n",
              "        vertical-align: middle;\n",
              "    }\n",
              "\n",
              "    .dataframe tbody tr th {\n",
              "        vertical-align: top;\n",
              "    }\n",
              "\n",
              "    .dataframe thead th {\n",
              "        text-align: right;\n",
              "    }\n",
              "</style>\n",
              "<table border=\"1\" class=\"dataframe\">\n",
              "  <thead>\n",
              "    <tr style=\"text-align: right;\">\n",
              "      <th></th>\n",
              "      <th>Date</th>\n",
              "      <th>Open</th>\n",
              "      <th>High</th>\n",
              "      <th>Low</th>\n",
              "      <th>Close</th>\n",
              "      <th>Volume</th>\n",
              "      <th>Target Close</th>\n",
              "      <th>7day_open</th>\n",
              "      <th>7day_close</th>\n",
              "      <th>7day_high</th>\n",
              "      <th>7day_low</th>\n",
              "      <th>40day_open</th>\n",
              "      <th>40day_close</th>\n",
              "      <th>40day_high</th>\n",
              "      <th>40day_low</th>\n",
              "    </tr>\n",
              "  </thead>\n",
              "  <tbody>\n",
              "    <tr>\n",
              "      <th>0</th>\n",
              "      <td>2014-09-17</td>\n",
              "      <td>0.000293</td>\n",
              "      <td>0.000299</td>\n",
              "      <td>0.000260</td>\n",
              "      <td>0.000268</td>\n",
              "      <td>1463600.0</td>\n",
              "      <td>0.000298</td>\n",
              "      <td>0.000288</td>\n",
              "      <td>0.000291</td>\n",
              "      <td>0.000325</td>\n",
              "      <td>0.00026</td>\n",
              "      <td>0.0003</td>\n",
              "      <td>0.000299</td>\n",
              "      <td>0.000467</td>\n",
              "      <td>0.000223</td>\n",
              "    </tr>\n",
              "    <tr>\n",
              "      <th>1</th>\n",
              "      <td>2014-09-18</td>\n",
              "      <td>0.000268</td>\n",
              "      <td>0.000325</td>\n",
              "      <td>0.000267</td>\n",
              "      <td>0.000298</td>\n",
              "      <td>2215910.0</td>\n",
              "      <td>0.000277</td>\n",
              "      <td>0.000288</td>\n",
              "      <td>0.000291</td>\n",
              "      <td>0.000325</td>\n",
              "      <td>0.00026</td>\n",
              "      <td>0.0003</td>\n",
              "      <td>0.000299</td>\n",
              "      <td>0.000467</td>\n",
              "      <td>0.000223</td>\n",
              "    </tr>\n",
              "    <tr>\n",
              "      <th>2</th>\n",
              "      <td>2014-09-19</td>\n",
              "      <td>0.000298</td>\n",
              "      <td>0.000307</td>\n",
              "      <td>0.000275</td>\n",
              "      <td>0.000277</td>\n",
              "      <td>883563.0</td>\n",
              "      <td>0.000292</td>\n",
              "      <td>0.000288</td>\n",
              "      <td>0.000291</td>\n",
              "      <td>0.000325</td>\n",
              "      <td>0.00026</td>\n",
              "      <td>0.0003</td>\n",
              "      <td>0.000299</td>\n",
              "      <td>0.000467</td>\n",
              "      <td>0.000223</td>\n",
              "    </tr>\n",
              "    <tr>\n",
              "      <th>3</th>\n",
              "      <td>2014-09-20</td>\n",
              "      <td>0.000276</td>\n",
              "      <td>0.000310</td>\n",
              "      <td>0.000267</td>\n",
              "      <td>0.000292</td>\n",
              "      <td>993004.0</td>\n",
              "      <td>0.000288</td>\n",
              "      <td>0.000288</td>\n",
              "      <td>0.000291</td>\n",
              "      <td>0.000325</td>\n",
              "      <td>0.00026</td>\n",
              "      <td>0.0003</td>\n",
              "      <td>0.000299</td>\n",
              "      <td>0.000467</td>\n",
              "      <td>0.000223</td>\n",
              "    </tr>\n",
              "    <tr>\n",
              "      <th>4</th>\n",
              "      <td>2014-09-21</td>\n",
              "      <td>0.000293</td>\n",
              "      <td>0.000299</td>\n",
              "      <td>0.000284</td>\n",
              "      <td>0.000288</td>\n",
              "      <td>539140.0</td>\n",
              "      <td>0.000298</td>\n",
              "      <td>0.000288</td>\n",
              "      <td>0.000291</td>\n",
              "      <td>0.000325</td>\n",
              "      <td>0.00026</td>\n",
              "      <td>0.0003</td>\n",
              "      <td>0.000299</td>\n",
              "      <td>0.000467</td>\n",
              "      <td>0.000223</td>\n",
              "    </tr>\n",
              "  </tbody>\n",
              "</table>\n",
              "</div>\n",
              "      <button class=\"colab-df-convert\" onclick=\"convertToInteractive('df-1b2e2ce1-429d-45da-b65b-7ef5beb48dbc')\"\n",
              "              title=\"Convert this dataframe to an interactive table.\"\n",
              "              style=\"display:none;\">\n",
              "        \n",
              "  <svg xmlns=\"http://www.w3.org/2000/svg\" height=\"24px\"viewBox=\"0 0 24 24\"\n",
              "       width=\"24px\">\n",
              "    <path d=\"M0 0h24v24H0V0z\" fill=\"none\"/>\n",
              "    <path d=\"M18.56 5.44l.94 2.06.94-2.06 2.06-.94-2.06-.94-.94-2.06-.94 2.06-2.06.94zm-11 1L8.5 8.5l.94-2.06 2.06-.94-2.06-.94L8.5 2.5l-.94 2.06-2.06.94zm10 10l.94 2.06.94-2.06 2.06-.94-2.06-.94-.94-2.06-.94 2.06-2.06.94z\"/><path d=\"M17.41 7.96l-1.37-1.37c-.4-.4-.92-.59-1.43-.59-.52 0-1.04.2-1.43.59L10.3 9.45l-7.72 7.72c-.78.78-.78 2.05 0 2.83L4 21.41c.39.39.9.59 1.41.59.51 0 1.02-.2 1.41-.59l7.78-7.78 2.81-2.81c.8-.78.8-2.07 0-2.86zM5.41 20L4 18.59l7.72-7.72 1.47 1.35L5.41 20z\"/>\n",
              "  </svg>\n",
              "      </button>\n",
              "      \n",
              "  <style>\n",
              "    .colab-df-container {\n",
              "      display:flex;\n",
              "      flex-wrap:wrap;\n",
              "      gap: 12px;\n",
              "    }\n",
              "\n",
              "    .colab-df-convert {\n",
              "      background-color: #E8F0FE;\n",
              "      border: none;\n",
              "      border-radius: 50%;\n",
              "      cursor: pointer;\n",
              "      display: none;\n",
              "      fill: #1967D2;\n",
              "      height: 32px;\n",
              "      padding: 0 0 0 0;\n",
              "      width: 32px;\n",
              "    }\n",
              "\n",
              "    .colab-df-convert:hover {\n",
              "      background-color: #E2EBFA;\n",
              "      box-shadow: 0px 1px 2px rgba(60, 64, 67, 0.3), 0px 1px 3px 1px rgba(60, 64, 67, 0.15);\n",
              "      fill: #174EA6;\n",
              "    }\n",
              "\n",
              "    [theme=dark] .colab-df-convert {\n",
              "      background-color: #3B4455;\n",
              "      fill: #D2E3FC;\n",
              "    }\n",
              "\n",
              "    [theme=dark] .colab-df-convert:hover {\n",
              "      background-color: #434B5C;\n",
              "      box-shadow: 0px 1px 3px 1px rgba(0, 0, 0, 0.15);\n",
              "      filter: drop-shadow(0px 1px 2px rgba(0, 0, 0, 0.3));\n",
              "      fill: #FFFFFF;\n",
              "    }\n",
              "  </style>\n",
              "\n",
              "      <script>\n",
              "        const buttonEl =\n",
              "          document.querySelector('#df-1b2e2ce1-429d-45da-b65b-7ef5beb48dbc button.colab-df-convert');\n",
              "        buttonEl.style.display =\n",
              "          google.colab.kernel.accessAllowed ? 'block' : 'none';\n",
              "\n",
              "        async function convertToInteractive(key) {\n",
              "          const element = document.querySelector('#df-1b2e2ce1-429d-45da-b65b-7ef5beb48dbc');\n",
              "          const dataTable =\n",
              "            await google.colab.kernel.invokeFunction('convertToInteractive',\n",
              "                                                     [key], {});\n",
              "          if (!dataTable) return;\n",
              "\n",
              "          const docLinkHtml = 'Like what you see? Visit the ' +\n",
              "            '<a target=\"_blank\" href=https://colab.research.google.com/notebooks/data_table.ipynb>data table notebook</a>'\n",
              "            + ' to learn more about interactive tables.';\n",
              "          element.innerHTML = '';\n",
              "          dataTable['output_type'] = 'display_data';\n",
              "          await google.colab.output.renderOutput(dataTable, element);\n",
              "          const docLink = document.createElement('div');\n",
              "          docLink.innerHTML = docLinkHtml;\n",
              "          element.appendChild(docLink);\n",
              "        }\n",
              "      </script>\n",
              "    </div>\n",
              "  </div>\n",
              "  "
            ],
            "text/plain": [
              "         Date      Open      High  ...  40day_close  40day_high  40day_low\n",
              "0  2014-09-17  0.000293  0.000299  ...     0.000299    0.000467   0.000223\n",
              "1  2014-09-18  0.000268  0.000325  ...     0.000299    0.000467   0.000223\n",
              "2  2014-09-19  0.000298  0.000307  ...     0.000299    0.000467   0.000223\n",
              "3  2014-09-20  0.000276  0.000310  ...     0.000299    0.000467   0.000223\n",
              "4  2014-09-21  0.000293  0.000299  ...     0.000299    0.000467   0.000223\n",
              "\n",
              "[5 rows x 15 columns]"
            ]
          },
          "metadata": {},
          "execution_count": 7
        }
      ]
    },
    {
      "cell_type": "code",
      "source": [
        "data3=data3.drop('Date',axis=1)\n",
        "\n",
        "#filling null cells\n",
        "\n",
        "cols=list(data3.columns)\n",
        "print('before null removal\\n')\n",
        "print(data3.isnull().sum())\n",
        "\n",
        "from sklearn.impute import SimpleImputer\n",
        "imputer=SimpleImputer()\n",
        "data3=pd.DataFrame(imputer.fit_transform(data3))\n",
        "print('\\nafter null removal..\\n')\n",
        "print(data3.isnull().sum())\n",
        "\n",
        "data3.columns=cols\n"
      ],
      "metadata": {
        "colab": {
          "base_uri": "https://localhost:8080/"
        },
        "id": "uJWpPORc_KJN",
        "outputId": "62e85e5d-a6f4-48b9-e65e-c621ba6d5832"
      },
      "execution_count": 8,
      "outputs": [
        {
          "output_type": "stream",
          "name": "stdout",
          "text": [
            "before null removal\n",
            "\n",
            "Open            4\n",
            "High            4\n",
            "Low             4\n",
            "Close           4\n",
            "Volume          4\n",
            "Target Close    4\n",
            "7day_open       4\n",
            "7day_close      4\n",
            "7day_high       4\n",
            "7day_low        4\n",
            "40day_open      4\n",
            "40day_close     4\n",
            "40day_high      4\n",
            "40day_low       4\n",
            "dtype: int64\n",
            "\n",
            "after null removal..\n",
            "\n",
            "0     0\n",
            "1     0\n",
            "2     0\n",
            "3     0\n",
            "4     0\n",
            "5     0\n",
            "6     0\n",
            "7     0\n",
            "8     0\n",
            "9     0\n",
            "10    0\n",
            "11    0\n",
            "12    0\n",
            "13    0\n",
            "dtype: int64\n"
          ]
        }
      ]
    },
    {
      "cell_type": "code",
      "source": [
        "\n",
        "train = data3[:2000]\n",
        "valid = data3[2000:]\n",
        "\n",
        "x_train = train.drop('Target Close', axis=1)\n",
        "y_train = train['Target Close']\n",
        "x_valid = valid.drop('Target Close', axis=1)\n",
        "y_valid = valid['Target Close']\n",
        "\n",
        "#implement linear regression\n",
        "\n",
        "from sklearn.linear_model import LinearRegression\n",
        "\n",
        "model = LinearRegression()\n",
        "model.fit(x_train,y_train)\n",
        "\n",
        "#predict on validation data\n",
        "preds = model.predict(x_valid)\n",
        "rms=np.sqrt(np.mean(np.power((np.array(y_valid)-np.array(preds)),2)))\n",
        "print(rms)"
      ],
      "metadata": {
        "colab": {
          "base_uri": "https://localhost:8080/"
        },
        "id": "kFEVOtiAVBpS",
        "outputId": "1788a51a-8c4b-4d94-d5c3-34acb733beec"
      },
      "execution_count": 10,
      "outputs": [
        {
          "output_type": "stream",
          "name": "stdout",
          "text": [
            "0.021100226743547043\n"
          ]
        }
      ]
    },
    {
      "cell_type": "code",
      "source": [
        "valid['Predictions'] = preds\n",
        "\n",
        "plt.figure(figsize=(16,9))\n",
        "\n",
        "plt.plot(valid[['Close','Predictions']])\n",
        "\n"
      ],
      "metadata": {
        "colab": {
          "base_uri": "https://localhost:8080/",
          "height": 738
        },
        "id": "BfJUAPDIpkOf",
        "outputId": "ae6c1403-24a4-44c3-80f4-c262a01bf74a"
      },
      "execution_count": 11,
      "outputs": [
        {
          "output_type": "stream",
          "name": "stderr",
          "text": [
            "/usr/local/lib/python3.7/dist-packages/ipykernel_launcher.py:1: SettingWithCopyWarning: \n",
            "A value is trying to be set on a copy of a slice from a DataFrame.\n",
            "Try using .loc[row_indexer,col_indexer] = value instead\n",
            "\n",
            "See the caveats in the documentation: https://pandas.pydata.org/pandas-docs/stable/user_guide/indexing.html#returning-a-view-versus-a-copy\n",
            "  \"\"\"Entry point for launching an IPython kernel.\n"
          ]
        },
        {
          "output_type": "execute_result",
          "data": {
            "text/plain": [
              "[<matplotlib.lines.Line2D at 0x7fe250a51f10>,\n",
              " <matplotlib.lines.Line2D at 0x7fe24ea2e250>]"
            ]
          },
          "metadata": {},
          "execution_count": 11
        },
        {
          "output_type": "display_data",
          "data": {
            "image/png": "[encoded data removed]",
            "text/plain": [
              "<Figure size 1152x648 with 1 Axes>"
            ]
          },
          "metadata": {
            "needs_background": "light"
          }
        }
      ]
    },
    {
      "cell_type": "code",
      "source": [
        "# save model\n",
        "\n",
        "import joblib\n",
        "joblib.dump(model,'linear_model')"
      ],
      "metadata": {
        "colab": {
          "base_uri": "https://localhost:8080/"
        },
        "id": "9JoFHM2HpymI",
        "outputId": "dd198eed-631a-4188-e595-33bd943331b5"
      },
      "execution_count": 12,
      "outputs": [
        {
          "output_type": "execute_result",
          "data": {
            "text/plain": [
              "['linear_model']"
            ]
          },
          "metadata": {},
          "execution_count": 12
        }
      ]
    },
    {
      "cell_type": "code",
      "source": [
        "data3.to_csv('data.csv',index=False)"
      ],
      "metadata": {
        "id": "hS5_0ZidaJAS"
      },
      "execution_count": 14,
      "outputs": []
    },
    {
      "cell_type": "code",
      "source": [
        ""
      ],
      "metadata": {
        "id": "7hvqVax2EggV"
      },
      "execution_count": 13,
      "outputs": []
    }
  ],
  "metadata": {
    "colab": {
      "collapsed_sections": [],
      "name": "model_training.ipynb",
      "provenance": []
    },
    "kernelspec": {
      "display_name": "Python 3",
      "name": "python3"
    },
    "language_info": {
      "name": "python"
    }
  },
  "nbformat": 4,
  "nbformat_minor": 0
}